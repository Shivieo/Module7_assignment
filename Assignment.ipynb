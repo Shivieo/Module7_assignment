{
 "cells": [
  {
   "cell_type": "code",
   "execution_count": null,
   "metadata": {},
   "outputs": [],
   "source": [
    "#Question1. Discuss the scenarios where multithreading is preferable to multiprocessing and scenarios where multiprocessing is a better choice."
   ]
  },
  {
   "cell_type": "code",
   "execution_count": null,
   "metadata": {},
   "outputs": [],
   "source": [
    "'''Answer1.\n",
    "Multithreading happens on one processor, threads share same memory space and resources within a process.\n",
    "Due to GIL ie.., Global Interpreter Lock in python, at one point of time, only one thread will execute. While in multiprocessor, multiple cores or processors are involved. Each processor has its own memory space and resources. When we use multiprocessor, It uses parallel processing on multiple CPU cores.\n",
    "In some case, Multiprocessor is a better choice as it is suitable for tasks that are independent and can run on isolation. For example, Server handling, multiple requests and computation simultaneously.\n",
    "'''"
   ]
  },
  {
   "cell_type": "code",
   "execution_count": 1,
   "metadata": {},
   "outputs": [],
   "source": [
    "#Question2. Describe what a process pool is and how it helps in managing multiple processes efficiently."
   ]
  },
  {
   "cell_type": "code",
   "execution_count": null,
   "metadata": {},
   "outputs": [],
   "source": [
    "'''Answer2\n",
    "Process pool is used to enhance the performance of Python programs where tasks can be independently executed. The process pool helps to increase the speed of execution of program and also provides various customized options.\n",
    "'''"
   ]
  },
  {
   "cell_type": "code",
   "execution_count": null,
   "metadata": {},
   "outputs": [],
   "source": [
    "#Question3. Explain what multiprocessing is and why it is used in Python programs."
   ]
  },
  {
   "cell_type": "code",
   "execution_count": null,
   "metadata": {},
   "outputs": [],
   "source": [
    "'''Answer3. \n",
    "Multiprocessing is a techinque that allows python program to run on multiple CPU cores or processor that has its own memory space and resources. We use multiprocessing to execute I/O bound tasks, major computational tasks, server handling tasks and to execute multiple requests independently.\n",
    "'''"
   ]
  },
  {
   "cell_type": "code",
   "execution_count": null,
   "metadata": {},
   "outputs": [],
   "source": [
    "#Question4. Write a Python program using multithreading where one thread adds numbers to a list, and another thread removes numbers from the list. Implement a mechanism to avoid race conditions using threading.Lock."
   ]
  },
  {
   "cell_type": "code",
   "execution_count": null,
   "metadata": {},
   "outputs": [],
   "source": [
    "'''Answer4.'''\n",
    "import threading\n",
    "import queue\n",
    "\n",
    "def add_to_list(numbers, queue, lock):\n",
    "    \"\"\"\n",
    "    Adds numbers to a list.\n",
    "\n",
    "    Args:\n",
    "        numbers: A list of numbers to add.\n",
    "        queue: A queue to signal the other thread to remove numbers.\n",
    "        lock: A lock to prevent race conditions.\n",
    "    \"\"\"\n",
    "\n",
    "    for num in numbers:\n",
    "        with lock:\n",
    "            numbers.append(num)\n",
    "            queue.put(1)  # Signal that a number has been added\n",
    "\n",
    "def remove_from_list(numbers, queue, lock):\n",
    "    \"\"\"\n",
    "    Removes numbers from a list.\n",
    "\n",
    "    Args:\n",
    "        numbers: A list of numbers to remove.\n",
    "        queue: A queue to wait for signals to remove numbers.\n",
    "        lock: A lock to prevent race conditions.\n",
    "    \"\"\"\n",
    "\n",
    "    while True:\n",
    "        queue.get()  # Wait for a signal to remove a number\n",
    "        with lock:\n",
    "            if len(numbers) > 0:\n",
    "                numbers.pop(0)  # Remove the first number\n",
    "\n",
    "if __name__ == \"__main__\":\n",
    "    numbers = []\n",
    "    queue = queue.Queue()\n",
    "    lock = threading.Lock()\n",
    "\n",
    "    # Create threads\n",
    "    add_thread = threading.Thread(target=add_to_list, args=(numbers, queue, lock))\n",
    "    remove_thread = threading.Thread(target=remove_from_list, args=(numbers, queue, lock))\n",
    "\n",
    "    # Start threads\n",
    "    add_thread.start()\n",
    "    remove_thread.start()\n",
    "\n",
    "    # Add numbers to the list\n",
    "    numbers_to_add = [1, 2, 3, 4, 5]\n",
    "    for num in numbers_to_add:\n",
    "        numbers.append(num)\n",
    "        queue.put(1)  # Signal that a number has been added\n",
    "\n",
    "    # Wait for threads to finish\n",
    "    add_thread.join()\n",
    "    remove_thread.join()\n",
    "\n",
    "    print(\"Final list:\", numbers)"
   ]
  },
  {
   "cell_type": "code",
   "execution_count": null,
   "metadata": {},
   "outputs": [],
   "source": [
    "#Question5.  Describe the methods and tools available in Python for safely sharing data between threads and processes."
   ]
  },
  {
   "cell_type": "code",
   "execution_count": null,
   "metadata": {},
   "outputs": [],
   "source": [
    "'''Answer5.\n",
    "To avoid race condition, we have methods and tools available in Python for safely sharing data between threads and processes:\n",
    "Queue: Provides a thread-safe queue for communication between threads. It supports various operations like putting, getting, and checking for emptiness.\n",
    "Lock: A basic synchronization primitive that allows only one thread to access a shared resource at a time.\n",
    "RLock: A reentrant lock that allows the same thread to acquire it multiple times.\n",
    "Semaphore: A more general synchronization tool that limits the number of threads that can access a shared resource simultaneously.\n",
    "Condition Variable: Used in conjunction with a lock to signal threads when a specific condition is met.\n",
    "'''"
   ]
  },
  {
   "cell_type": "code",
   "execution_count": null,
   "metadata": {},
   "outputs": [],
   "source": [
    "#Question6. Discuss why it’s crucial to handle exceptions in concurrent programs and the techniques available for doing so."
   ]
  },
  {
   "cell_type": "code",
   "execution_count": null,
   "metadata": {},
   "outputs": [],
   "source": [
    "'''Answer6\n",
    "Exception handling is crucial in concurrent programs for several reasons:\n",
    "\n",
    "Preventing Deadlocks: Unhandled exceptions in one thread or process can lead to deadlocks, where multiple threads or processes are waiting for each other indefinitely.\n",
    "Ensuring Data Consistency: Proper exception handling helps maintain data integrity and prevents inconsistencies that can arise from unexpected errors or failures.\n",
    "Improving Program Reliability: By gracefully handling exceptions, concurrent programs can become more robust and less prone to crashes.\n",
    "Providing Informative Feedback: Well-structured exception handling can provide valuable information to developers and users, aiding in debugging and troubleshooting.\n",
    "'''"
   ]
  },
  {
   "cell_type": "code",
   "execution_count": null,
   "metadata": {},
   "outputs": [],
   "source": [
    "#Question7.Create a program that uses a thread pool to calculate the factorial of numbers from 1 to 10 concurrently. Use concurrent.futures.ThreadPoolExecutor to manage the threads."
   ]
  },
  {
   "cell_type": "code",
   "execution_count": null,
   "metadata": {},
   "outputs": [],
   "source": [
    "'''Answer7.'''\n",
    "import concurrent.futures\n",
    "import time\n",
    "\n",
    "def calculate_factorial(num):\n",
    "    \"\"\"Calculates the factorial of a number.\"\"\"\n",
    "    factorial = 1\n",
    "    for i in range(1, num + 1):\n",
    "        factorial *= i\n",
    "    return factorial\n",
    "\n",
    "def main():\n",
    "    \"\"\"Main function to create a thread pool and calculate factorials.\"\"\"\n",
    "    with concurrent.futures.ThreadPoolExecutor() as executor:\n",
    "        # Submit tasks to the thread pool\n",
    "        futures = [executor.submit(calculate_factorial, num) for num in range(1, 11)]\n",
    "\n",
    "        # Wait for all tasks to complete and get their results\n",
    "        for future in concurrent.futures.as_completed(futures):\n",
    "            result = future.result()\n",
    "            print(f\"Factorial of {future.args[0]} is {result}\")\n",
    "\n",
    "if __name__ == \"__main__\":\n",
    "    start_time = time.time()\n",
    "    main()\n",
    "    end_time = time.time()\n",
    "    print(f\"Total time taken: {end_time - start_time:.2f} seconds\")"
   ]
  },
  {
   "cell_type": "code",
   "execution_count": null,
   "metadata": {},
   "outputs": [],
   "source": [
    "#Question8.  Create a Python program that uses multiprocessing.Pool to compute the square of numbers from 1 to 10 in parallel. Measure the time taken to perform this computation using a pool of different sizes (e.g., 2, 4, 8, processes)."
   ]
  },
  {
   "cell_type": "code",
   "execution_count": null,
   "metadata": {},
   "outputs": [],
   "source": [
    "'''Answer8.'''\n",
    "import multiprocessing\n",
    "import time\n",
    "\n",
    "def square(num):\n",
    "    \"\"\"Calculates the square of a number.\"\"\"\n",
    "    return num * num\n",
    "\n",
    "def main(num_processes):\n",
    "    \"\"\"Main function to create a process pool and calculate squares.\"\"\"\n",
    "    with multiprocessing.Pool(processes=num_processes) as pool:\n",
    "        # Submit tasks to the process pool\n",
    "        results = pool.map(square, range(1, 11))\n",
    "\n",
    "        # Print the results\n",
    "        for num, result in zip(range(1, 11), results):\n",
    "            print(f\"Square of {num} is {result}\")\n",
    "\n",
    "if __name__ == \"__main__\":\n",
    "    for num_processes in [2, 4, 8]:\n",
    "        start_time = time.time()\n",
    "        main(num_processes)\n",
    "        end_time = time.time()\n",
    "        print(f\"Time taken with {num_processes} processes: {end_time - start_time:.2f} seconds\\n\")"
   ]
  }
 ],
 "metadata": {
  "kernelspec": {
   "display_name": "Python 3",
   "language": "python",
   "name": "python3"
  },
  "language_info": {
   "codemirror_mode": {
    "name": "ipython",
    "version": 3
   },
   "file_extension": ".py",
   "mimetype": "text/x-python",
   "name": "python",
   "nbconvert_exporter": "python",
   "pygments_lexer": "ipython3",
   "version": "3.12.5"
  }
 },
 "nbformat": 4,
 "nbformat_minor": 2
}
